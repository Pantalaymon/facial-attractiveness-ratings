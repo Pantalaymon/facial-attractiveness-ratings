{
 "cells": [
  {
   "cell_type": "markdown",
   "id": "12fe9081-ee75-4d4f-89cd-fdb06ed9ac94",
   "metadata": {},
   "source": [
    "# Identifying features linked to attractiveness\n",
    "This notebook follows on this other notebook on analysing facial ratings. The previous notebook aimed to analyse how people rate a face ; we examined \n",
    "- the distribution of averages ratings across multiple pictures\n",
    "- how several variables (gender and ethnicity) correlate with the ratings\n",
    "- how individual raters rate different faces\n",
    "- how different people rate a same face\n",
    "\n",
    "The above analysis was performed only on the numerical ratings given by raters to each image as well as some covariates (gender and ethnicity). For now we have not yet used the pictures themselves. In the present notebook we aim to determine which features of the images are correlated with the ratings. In a nutshell we want to find out if we can isolate:\n",
    "- specific features or at least some projection from the pictures, that are characteristic of attractiveness\n",
    "- specific features or at least some projection from the pictures, that are characteristic of unattractiveness\n",
    "\n",
    "# Loading Data\n",
    "First let's load the ratings and the path for each image"
   ]
  },
  {
   "cell_type": "code",
   "execution_count": 65,
   "id": "b39440bc-2193-4f21-9edb-519fafc9333f",
   "metadata": {},
   "outputs": [
    {
     "data": {
      "text/plain": [
       "'\\nimport torch\\nimport torch.nn as nn\\nimport torchvision.transforms as transforms\\nfrom torchvision import models\\nfrom sklearn.preprocessing import StandardScaler\\n'"
      ]
     },
     "execution_count": 65,
     "metadata": {},
     "output_type": "execute_result"
    }
   ],
   "source": [
    "\n",
    "import pandas as pd\n",
    "import numpy as np\n",
    "import os\n",
    "from pathlib import Path\n",
    "from PIL import Image\n",
    "\n",
    "'''\n",
    "import torch\n",
    "import torch.nn as nn\n",
    "import torchvision.transforms as transforms\n",
    "from torchvision import models\n",
    "from sklearn.preprocessing import StandardScaler\n",
    "'''"
   ]
  },
  {
   "cell_type": "code",
   "execution_count": 66,
   "id": "3137915f-89a8-4e26-8fa0-420c5ef30d64",
   "metadata": {},
   "outputs": [
    {
     "data": {
      "text/html": [
       "<div>\n",
       "<style scoped>\n",
       "    .dataframe tbody tr th:only-of-type {\n",
       "        vertical-align: middle;\n",
       "    }\n",
       "\n",
       "    .dataframe tbody tr th {\n",
       "        vertical-align: top;\n",
       "    }\n",
       "\n",
       "    .dataframe thead th {\n",
       "        text-align: right;\n",
       "    }\n",
       "</style>\n",
       "<table border=\"1\" class=\"dataframe\">\n",
       "  <thead>\n",
       "    <tr style=\"text-align: right;\">\n",
       "      <th></th>\n",
       "      <th>mean</th>\n",
       "      <th>image</th>\n",
       "      <th>path</th>\n",
       "    </tr>\n",
       "  </thead>\n",
       "  <tbody>\n",
       "    <tr>\n",
       "      <th>0</th>\n",
       "      <td>1.117647</td>\n",
       "      <td>kuma-kum-GKbPbR0ZAT4-unsplash.jpg</td>\n",
       "      <td>/home/ubuntu/ME-beautydatabase/images/female/c...</td>\n",
       "    </tr>\n",
       "    <tr>\n",
       "      <th>1</th>\n",
       "      <td>1.000000</td>\n",
       "      <td>pexels-cottonbro-5529905.jpg</td>\n",
       "      <td>/home/ubuntu/ME-beautydatabase/images/male/asi...</td>\n",
       "    </tr>\n",
       "    <tr>\n",
       "      <th>2</th>\n",
       "      <td>1.000000</td>\n",
       "      <td>pexels-nishant-aneja-2561432.jpg</td>\n",
       "      <td>/home/ubuntu/ME-beautydatabase/images/male/ind...</td>\n",
       "    </tr>\n",
       "    <tr>\n",
       "      <th>3</th>\n",
       "      <td>1.428571</td>\n",
       "      <td>woman-1929550_1920.jpg</td>\n",
       "      <td>NaN</td>\n",
       "    </tr>\n",
       "    <tr>\n",
       "      <th>4</th>\n",
       "      <td>1.500000</td>\n",
       "      <td>pexels-himesh-mehta-3059930.jpg</td>\n",
       "      <td>/home/ubuntu/ME-beautydatabase/images/female/i...</td>\n",
       "    </tr>\n",
       "    <tr>\n",
       "      <th>...</th>\n",
       "      <td>...</td>\n",
       "      <td>...</td>\n",
       "      <td>...</td>\n",
       "    </tr>\n",
       "    <tr>\n",
       "      <th>2602</th>\n",
       "      <td>9.000000</td>\n",
       "      <td>pexels-pixabay-247322.jpg</td>\n",
       "      <td>/home/ubuntu/ME-beautydatabase/images/female/c...</td>\n",
       "    </tr>\n",
       "    <tr>\n",
       "      <th>2603</th>\n",
       "      <td>9.375000</td>\n",
       "      <td>women-5930352_1920.jpg</td>\n",
       "      <td>/home/ubuntu/ME-beautydatabase/images/female/a...</td>\n",
       "    </tr>\n",
       "    <tr>\n",
       "      <th>2604</th>\n",
       "      <td>9.222222</td>\n",
       "      <td>francesca-zama-1fhl_kmbfAE-unsplash.jpg</td>\n",
       "      <td>/home/ubuntu/ME-beautydatabase/images/female/h...</td>\n",
       "    </tr>\n",
       "    <tr>\n",
       "      <th>2605</th>\n",
       "      <td>9.625000</td>\n",
       "      <td>sofia--LNdco1UgNY-unsplash.jpg</td>\n",
       "      <td>/home/ubuntu/ME-beautydatabase/images/female/c...</td>\n",
       "    </tr>\n",
       "    <tr>\n",
       "      <th>2606</th>\n",
       "      <td>9.333333</td>\n",
       "      <td>pexels-mart¿¬-pardo-1674318.jpg</td>\n",
       "      <td>/home/ubuntu/ME-beautydatabase/images/male/cau...</td>\n",
       "    </tr>\n",
       "  </tbody>\n",
       "</table>\n",
       "<p>2607 rows × 3 columns</p>\n",
       "</div>"
      ],
      "text/plain": [
       "          mean                                    image  \\\n",
       "0     1.117647        kuma-kum-GKbPbR0ZAT4-unsplash.jpg   \n",
       "1     1.000000             pexels-cottonbro-5529905.jpg   \n",
       "2     1.000000         pexels-nishant-aneja-2561432.jpg   \n",
       "3     1.428571                   woman-1929550_1920.jpg   \n",
       "4     1.500000          pexels-himesh-mehta-3059930.jpg   \n",
       "...        ...                                      ...   \n",
       "2602  9.000000                pexels-pixabay-247322.jpg   \n",
       "2603  9.375000                   women-5930352_1920.jpg   \n",
       "2604  9.222222  francesca-zama-1fhl_kmbfAE-unsplash.jpg   \n",
       "2605  9.625000           sofia--LNdco1UgNY-unsplash.jpg   \n",
       "2606  9.333333          pexels-mart¿¬-pardo-1674318.jpg   \n",
       "\n",
       "                                                   path  \n",
       "0     /home/ubuntu/ME-beautydatabase/images/female/c...  \n",
       "1     /home/ubuntu/ME-beautydatabase/images/male/asi...  \n",
       "2     /home/ubuntu/ME-beautydatabase/images/male/ind...  \n",
       "3                                                   NaN  \n",
       "4     /home/ubuntu/ME-beautydatabase/images/female/i...  \n",
       "...                                                 ...  \n",
       "2602  /home/ubuntu/ME-beautydatabase/images/female/c...  \n",
       "2603  /home/ubuntu/ME-beautydatabase/images/female/a...  \n",
       "2604  /home/ubuntu/ME-beautydatabase/images/female/h...  \n",
       "2605  /home/ubuntu/ME-beautydatabase/images/female/c...  \n",
       "2606  /home/ubuntu/ME-beautydatabase/images/male/cau...  \n",
       "\n",
       "[2607 rows x 3 columns]"
      ]
     },
     "execution_count": 66,
     "metadata": {},
     "output_type": "execute_result"
    }
   ],
   "source": [
    "\n",
    "link_data = \"https://github.com/fbplab/MEBeauty-database/raw/main/scores/generic_scores_all_2022.xlsx\"\n",
    "df = pd.read_excel(link_data)\n",
    "df = df.iloc[:, 0:3] #remove individual ratings\n",
    "df"
   ]
  },
  {
   "cell_type": "code",
   "execution_count": 67,
   "id": "fc49e8e1-0aee-46ae-a704-33b9f82eb20e",
   "metadata": {},
   "outputs": [
    {
     "data": {
      "text/plain": [
       "'/home/ubuntu/ME-beautydatabase/images/female/indian/pexels-himesh-mehta-3059930.jpg'"
      ]
     },
     "execution_count": 67,
     "metadata": {},
     "output_type": "execute_result"
    }
   ],
   "source": [
    "df.iloc[4,2]"
   ]
  },
  {
   "cell_type": "code",
   "execution_count": 68,
   "id": "9cbbbc68-a9ff-449e-b34a-9b8b962e0db4",
   "metadata": {},
   "outputs": [],
   "source": [
    "# Drop  missing values if any\n",
    "df.dropna(inplace=True)\n",
    "df.drop(\"image\", axis=1, inplace=True)\n",
    "\n",
    "def standardize_path(cell):\n",
    "    # We only want the architecture of the path from {gender}.\n",
    "    # That way later we can provide whatever root path we want for the dataset\n",
    "    path = Path(cell)\n",
    "    return \"/\".join(path.parts[-3:])\n",
    "\n",
    "df[\"path\"] = df[\"path\"].apply(standardize_path)"
   ]
  },
  {
   "cell_type": "code",
   "execution_count": 69,
   "id": "a6e031e8-00e8-40d9-8e84-a1d78a3bd659",
   "metadata": {},
   "outputs": [
    {
     "data": {
      "text/html": [
       "<div>\n",
       "<style scoped>\n",
       "    .dataframe tbody tr th:only-of-type {\n",
       "        vertical-align: middle;\n",
       "    }\n",
       "\n",
       "    .dataframe tbody tr th {\n",
       "        vertical-align: top;\n",
       "    }\n",
       "\n",
       "    .dataframe thead th {\n",
       "        text-align: right;\n",
       "    }\n",
       "</style>\n",
       "<table border=\"1\" class=\"dataframe\">\n",
       "  <thead>\n",
       "    <tr style=\"text-align: right;\">\n",
       "      <th></th>\n",
       "      <th>mean</th>\n",
       "      <th>path</th>\n",
       "    </tr>\n",
       "  </thead>\n",
       "  <tbody>\n",
       "    <tr>\n",
       "      <th>0</th>\n",
       "      <td>1.117647</td>\n",
       "      <td>female/caucasian/kuma-kum-GKbPbR0ZAT4-unsplash...</td>\n",
       "    </tr>\n",
       "    <tr>\n",
       "      <th>1</th>\n",
       "      <td>1.000000</td>\n",
       "      <td>male/asian/pexels-cottonbro-5529905.jpg</td>\n",
       "    </tr>\n",
       "    <tr>\n",
       "      <th>2</th>\n",
       "      <td>1.000000</td>\n",
       "      <td>male/indian/pexels-nishant-aneja-2561432.jpg</td>\n",
       "    </tr>\n",
       "    <tr>\n",
       "      <th>4</th>\n",
       "      <td>1.500000</td>\n",
       "      <td>female/indian/pexels-himesh-mehta-3059930.jpg</td>\n",
       "    </tr>\n",
       "    <tr>\n",
       "      <th>5</th>\n",
       "      <td>1.888889</td>\n",
       "      <td>male/asian/pexels-kaniseeyapose-2751061.jpg</td>\n",
       "    </tr>\n",
       "    <tr>\n",
       "      <th>...</th>\n",
       "      <td>...</td>\n",
       "      <td>...</td>\n",
       "    </tr>\n",
       "    <tr>\n",
       "      <th>2602</th>\n",
       "      <td>9.000000</td>\n",
       "      <td>female/caucasian/pexels-pixabay-247322.jpg</td>\n",
       "    </tr>\n",
       "    <tr>\n",
       "      <th>2603</th>\n",
       "      <td>9.375000</td>\n",
       "      <td>female/asian/women-5930352_1920.jpg</td>\n",
       "    </tr>\n",
       "    <tr>\n",
       "      <th>2604</th>\n",
       "      <td>9.222222</td>\n",
       "      <td>female/hispanic/francesca-zama-1fhl_kmbfAE-uns...</td>\n",
       "    </tr>\n",
       "    <tr>\n",
       "      <th>2605</th>\n",
       "      <td>9.625000</td>\n",
       "      <td>female/caucasian/sofia--LNdco1UgNY-unsplash.jpg</td>\n",
       "    </tr>\n",
       "    <tr>\n",
       "      <th>2606</th>\n",
       "      <td>9.333333</td>\n",
       "      <td>male/caucasian/pexels-mart¿¬-pardo-1674318.jpg</td>\n",
       "    </tr>\n",
       "  </tbody>\n",
       "</table>\n",
       "<p>2553 rows × 2 columns</p>\n",
       "</div>"
      ],
      "text/plain": [
       "          mean                                               path\n",
       "0     1.117647  female/caucasian/kuma-kum-GKbPbR0ZAT4-unsplash...\n",
       "1     1.000000            male/asian/pexels-cottonbro-5529905.jpg\n",
       "2     1.000000       male/indian/pexels-nishant-aneja-2561432.jpg\n",
       "4     1.500000      female/indian/pexels-himesh-mehta-3059930.jpg\n",
       "5     1.888889        male/asian/pexels-kaniseeyapose-2751061.jpg\n",
       "...        ...                                                ...\n",
       "2602  9.000000         female/caucasian/pexels-pixabay-247322.jpg\n",
       "2603  9.375000                female/asian/women-5930352_1920.jpg\n",
       "2604  9.222222  female/hispanic/francesca-zama-1fhl_kmbfAE-uns...\n",
       "2605  9.625000    female/caucasian/sofia--LNdco1UgNY-unsplash.jpg\n",
       "2606  9.333333     male/caucasian/pexels-mart¿¬-pardo-1674318.jpg\n",
       "\n",
       "[2553 rows x 2 columns]"
      ]
     },
     "execution_count": 69,
     "metadata": {},
     "output_type": "execute_result"
    }
   ],
   "source": [
    "df"
   ]
  },
  {
   "cell_type": "markdown",
   "id": "7803344a-7520-413c-ae80-9be527cb4060",
   "metadata": {},
   "source": [
    "After removing the missing values, we have 2553 images. That's a lot of pictures ! Let's download them locally so that we can load them more easily later. You may take a cup of tea, this may take a while. Note that you may also only download the cropped dataset which is faster and takes less space on the machine."
   ]
  },
  {
   "cell_type": "code",
   "execution_count": 70,
   "id": "6cd6bc70-3bf5-4b3c-a87c-91cbf183afa7",
   "metadata": {},
   "outputs": [],
   "source": [
    "import os\n",
    "import requests\n",
    "from tqdm import tqdm\n",
    "\n",
    "\n",
    "\n",
    "# Function to download a file from a URL\n",
    "def download_file(url, save_path):\n",
    "    response = requests.get(url, stream=True)\n",
    "    with open(save_path, 'wb') as file:\n",
    "        for data in response.iter_content(chunk_size=1024):\n",
    "            file.write(data)\n",
    "\n",
    "# URLs of the images\n",
    "base_url_original = 'https://github.com/fbplab/MEBeauty-database/raw/main/original_images/'\n",
    "base_url_cropped = 'https://github.com/fbplab/MEBeauty-database/raw/main/cropped_images/images_crop_align_opencv/'\n",
    "\n",
    "def download_dataset(df, dataset_url, output_dir, rewrite=True):\n",
    "    \n",
    "    image_paths = df['path'].tolist()\n",
    "    with tqdm(total=len(image_paths), unit='file') as pbar:\n",
    "        for  path in image_paths:\n",
    "            local_path = os.path.join(output_dir, path)\n",
    "            if  rewrite or not os.path.isfile(local_path):\n",
    "                write_dir = os.path.join(output_dir, *Path(path).parts[:-1])\n",
    "                #print(write_dir)\n",
    "                os.makedirs(write_dir, exist_ok=True)\n",
    "                download_file(os.path.join(dataset_url , path), local_path)\n",
    "            pbar.update(1)\n",
    "\n"
   ]
  },
  {
   "cell_type": "code",
   "execution_count": null,
   "id": "b09981cf-205f-46af-9eeb-e1dec139ee56",
   "metadata": {},
   "outputs": [
    {
     "name": "stderr",
     "output_type": "stream",
     "text": [
      " 60%|█████████████████████████████████████████████▎                              | 1524/2553 [24:42<29:30,  1.72s/file]"
     ]
    }
   ],
   "source": [
    "\n",
    "# URLs of the images\n",
    "base_url_original = 'https://github.com/fbplab/MEBeauty-database/raw/main/original_images/'\n",
    "base_url_cropped = 'https://github.com/fbplab/MEBeauty-database/raw/main/cropped_images/images_crop_align_opencv/'\n",
    "\n",
    "download_dataset(df, base_url_original, 'images/original', rewrite=False)"
   ]
  },
  {
   "cell_type": "code",
   "execution_count": null,
   "id": "b8fa367d-4255-408c-90f2-e8233649adb2",
   "metadata": {},
   "outputs": [],
   "source": [
    "download_dataset(df, base_url_cropped, 'images/cropped', rewrite=False)"
   ]
  },
  {
   "cell_type": "code",
   "execution_count": null,
   "id": "53089750-dc60-44d8-bfbe-78178ec32678",
   "metadata": {},
   "outputs": [],
   "source": []
  },
  {
   "cell_type": "code",
   "execution_count": null,
   "id": "6aebfcac-d56c-4c71-adb7-ad0008f9e617",
   "metadata": {},
   "outputs": [],
   "source": []
  }
 ],
 "metadata": {
  "kernelspec": {
   "display_name": "Python 3 (ipykernel)",
   "language": "python",
   "name": "python3"
  },
  "language_info": {
   "codemirror_mode": {
    "name": "ipython",
    "version": 3
   },
   "file_extension": ".py",
   "mimetype": "text/x-python",
   "name": "python",
   "nbconvert_exporter": "python",
   "pygments_lexer": "ipython3",
   "version": "3.11.7"
  }
 },
 "nbformat": 4,
 "nbformat_minor": 5
}
